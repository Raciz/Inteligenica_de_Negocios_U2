{
 "cells": [
  {
   "cell_type": "code",
   "execution_count": 5,
   "metadata": {
    "collapsed": true
   },
   "outputs": [],
   "source": [
    "%matplotlib inline\n",
    "import sys, os\n",
    "import pandas as pd\n",
    "import matplotlib.pyplot as plot\n",
    "import copy"
   ]
  },
  {
   "cell_type": "code",
   "execution_count": 11,
   "metadata": {},
   "outputs": [],
   "source": [
    "#lista con las 10 fuerzas con mas registros de crimenes\n",
    "topForces = [\"metropolitan\",\"greater-manchester\",\"west-yorkshire\",\"west-midlands\",\"south-yorkshire\",\"hampshire\",\"lancashire\",\"thames-valley\",\"kent\",\"avon-and-somerset\"]\n",
    "\n",
    "#lista para guardar los registro de crimenes de las fuerza en los 84 meses\n",
    "topForcesCrimes = []\n",
    "for i in range(len(topForces)):\n",
    "    topForcesCrimes.append([0] * 84)"
   ]
  },
  {
   "cell_type": "code",
   "execution_count": null,
   "metadata": {
    "collapsed": true
   },
   "outputs": [],
   "source": [
    "for i in [\"2011-\",\"2012-\",\"2013-\",\"2014-\",\"2015-\",\"2016-\",\"2017-\"]:\n",
    "    for j in [\"01\",\"02\",\"03\",\"04\",\"05\",\"06\",\"07\",\"08\",\"09\",\"10\",\"11\",\"12\"]:\n",
    "        for k in range(len(topForces)):\n",
    "            \n",
    "            #abrimos el archivo mediantes pandas para obtener un dataframe\n",
    "            dataset = pd.read_csv(\"./CrimesUK_2011_2017/\"+i+j+\"/\"+i+j+\"-\"+topforces[k]+\"-street.csv\", header=0)\n",
    "            \n",
    "            totalCrimes += len(dataset)\n",
    "            \n",
    "            forcesCrimes[k] += len(dataset)\n"
   ]
  },
  {
   "cell_type": "code",
   "execution_count": null,
   "metadata": {
    "collapsed": true
   },
   "outputs": [],
   "source": [
    "for train, test in cv.split(X, y):\n",
    "    plot.plot(fpr, tpr, lw=1, alpha=0.3,label='ROC fold %d (AUC = %0.2f)' % (i, roc_auc))\n",
    "\n",
    "    \n",
    "plot.plot([0, 1], [0, 1], linestyle='--', lw=2, color='r', label='Luck', alpha=.8)\n",
    "\n",
    "mean_tpr = np.mean(tprs, axis=0)\n",
    "mean_tpr[-1] = 1.0\n",
    "mean_auc = auc(mean_fpr, mean_tpr)\n",
    "std_auc = np.std(aucs)\n",
    "plot.plot(mean_fpr, mean_tpr, color='b',\n",
    "         label=r'Mean ROC (AUC = %0.2f $\\pm$ %0.2f)' % (mean_auc, std_auc),\n",
    "         lw=2, alpha=.8)\n",
    "\n",
    "std_tpr = np.std(tprs, axis=0)\n",
    "tprs_upper = np.minimum(mean_tpr + std_tpr, 1)\n",
    "tprs_lower = np.maximum(mean_tpr - std_tpr, 0)\n",
    "plot.fill_between(mean_fpr, tprs_lower, tprs_upper, color='grey', alpha=.2, label=r'$\\pm$ 1 std. dev.')\n",
    "\n",
    "plot.xlim([-0.05, 1.05])\n",
    "plot.ylim([-0.05, 1.05])\n",
    "plot.xlabel('False Positive Rate')\n",
    "plot.ylabel('True Positive Rate')\n",
    "plot.title('Random Forest')\n",
    "plot.legend(loc=\"lower right\")\n",
    "plot.show()"
   ]
  }
 ],
 "metadata": {
  "kernelspec": {
   "display_name": "Python 2",
   "language": "python",
   "name": "python2"
  },
  "language_info": {
   "codemirror_mode": {
    "name": "ipython",
    "version": 2
   },
   "file_extension": ".py",
   "mimetype": "text/x-python",
   "name": "python",
   "nbconvert_exporter": "python",
   "pygments_lexer": "ipython2",
   "version": "2.7.14"
  }
 },
 "nbformat": 4,
 "nbformat_minor": 2
}
